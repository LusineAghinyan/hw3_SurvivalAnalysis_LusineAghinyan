{
 "cells": [
  {
   "cell_type": "raw",
   "id": "1ca5640a-c73a-46b2-bc25-cb573c1737fe",
   "metadata": {},
   "source": [
    "Report you can see in the end of the notebook !!!"
   ]
  },
  {
   "cell_type": "code",
   "execution_count": 1,
   "id": "8bac1583-0705-4e99-aaa5-00fdff6d2e19",
   "metadata": {},
   "outputs": [],
   "source": [
    "import pandas as pd\n",
    "import numpy as np\n",
    "from lifelines import WeibullAFTFitter, LogNormalAFTFitter, LogLogisticAFTFitter\n",
    "import matplotlib.pyplot as plt\n",
    "import os\n",
    "\n",
    "# Loading the dataset using a relative path\n",
    "path_to_save = os.getcwd()+'/Hw3_MA_AghinyanLusine/telco.csv'\n",
    "data = pd.read_csv(path_to_save ) \n"
   ]
  },
  {
   "cell_type": "code",
   "execution_count": 2,
   "id": "98e9c32b-7a0b-409f-9c27-870890088bc8",
   "metadata": {},
   "outputs": [
    {
     "data": {
      "text/html": [
       "<div>\n",
       "<style scoped>\n",
       "    .dataframe tbody tr th:only-of-type {\n",
       "        vertical-align: middle;\n",
       "    }\n",
       "\n",
       "    .dataframe tbody tr th {\n",
       "        vertical-align: top;\n",
       "    }\n",
       "\n",
       "    .dataframe thead th {\n",
       "        text-align: right;\n",
       "    }\n",
       "</style>\n",
       "<table border=\"1\" class=\"dataframe\">\n",
       "  <thead>\n",
       "    <tr style=\"text-align: right;\">\n",
       "      <th></th>\n",
       "      <th>ID</th>\n",
       "      <th>region</th>\n",
       "      <th>tenure</th>\n",
       "      <th>age</th>\n",
       "      <th>marital</th>\n",
       "      <th>address</th>\n",
       "      <th>income</th>\n",
       "      <th>ed</th>\n",
       "      <th>retire</th>\n",
       "      <th>gender</th>\n",
       "      <th>voice</th>\n",
       "      <th>internet</th>\n",
       "      <th>forward</th>\n",
       "      <th>custcat</th>\n",
       "      <th>churn</th>\n",
       "    </tr>\n",
       "  </thead>\n",
       "  <tbody>\n",
       "    <tr>\n",
       "      <th>0</th>\n",
       "      <td>1</td>\n",
       "      <td>Zone 2</td>\n",
       "      <td>13</td>\n",
       "      <td>44</td>\n",
       "      <td>Married</td>\n",
       "      <td>9</td>\n",
       "      <td>64</td>\n",
       "      <td>College degree</td>\n",
       "      <td>No</td>\n",
       "      <td>Male</td>\n",
       "      <td>No</td>\n",
       "      <td>No</td>\n",
       "      <td>Yes</td>\n",
       "      <td>Basic service</td>\n",
       "      <td>Yes</td>\n",
       "    </tr>\n",
       "    <tr>\n",
       "      <th>1</th>\n",
       "      <td>2</td>\n",
       "      <td>Zone 3</td>\n",
       "      <td>11</td>\n",
       "      <td>33</td>\n",
       "      <td>Married</td>\n",
       "      <td>7</td>\n",
       "      <td>136</td>\n",
       "      <td>Post-undergraduate degree</td>\n",
       "      <td>No</td>\n",
       "      <td>Male</td>\n",
       "      <td>Yes</td>\n",
       "      <td>No</td>\n",
       "      <td>Yes</td>\n",
       "      <td>Total service</td>\n",
       "      <td>Yes</td>\n",
       "    </tr>\n",
       "    <tr>\n",
       "      <th>2</th>\n",
       "      <td>3</td>\n",
       "      <td>Zone 3</td>\n",
       "      <td>68</td>\n",
       "      <td>52</td>\n",
       "      <td>Married</td>\n",
       "      <td>24</td>\n",
       "      <td>116</td>\n",
       "      <td>Did not complete high school</td>\n",
       "      <td>No</td>\n",
       "      <td>Female</td>\n",
       "      <td>No</td>\n",
       "      <td>No</td>\n",
       "      <td>No</td>\n",
       "      <td>Plus service</td>\n",
       "      <td>No</td>\n",
       "    </tr>\n",
       "    <tr>\n",
       "      <th>3</th>\n",
       "      <td>4</td>\n",
       "      <td>Zone 2</td>\n",
       "      <td>33</td>\n",
       "      <td>33</td>\n",
       "      <td>Unmarried</td>\n",
       "      <td>12</td>\n",
       "      <td>33</td>\n",
       "      <td>High school degree</td>\n",
       "      <td>No</td>\n",
       "      <td>Female</td>\n",
       "      <td>No</td>\n",
       "      <td>No</td>\n",
       "      <td>No</td>\n",
       "      <td>Basic service</td>\n",
       "      <td>Yes</td>\n",
       "    </tr>\n",
       "    <tr>\n",
       "      <th>4</th>\n",
       "      <td>5</td>\n",
       "      <td>Zone 2</td>\n",
       "      <td>23</td>\n",
       "      <td>30</td>\n",
       "      <td>Married</td>\n",
       "      <td>9</td>\n",
       "      <td>30</td>\n",
       "      <td>Did not complete high school</td>\n",
       "      <td>No</td>\n",
       "      <td>Male</td>\n",
       "      <td>No</td>\n",
       "      <td>No</td>\n",
       "      <td>Yes</td>\n",
       "      <td>Plus service</td>\n",
       "      <td>No</td>\n",
       "    </tr>\n",
       "  </tbody>\n",
       "</table>\n",
       "</div>"
      ],
      "text/plain": [
       "   ID  region  tenure  age    marital  address  income  \\\n",
       "0   1  Zone 2      13   44    Married        9      64   \n",
       "1   2  Zone 3      11   33    Married        7     136   \n",
       "2   3  Zone 3      68   52    Married       24     116   \n",
       "3   4  Zone 2      33   33  Unmarried       12      33   \n",
       "4   5  Zone 2      23   30    Married        9      30   \n",
       "\n",
       "                             ed retire  gender voice internet forward  \\\n",
       "0                College degree     No    Male    No       No     Yes   \n",
       "1     Post-undergraduate degree     No    Male   Yes       No     Yes   \n",
       "2  Did not complete high school     No  Female    No       No      No   \n",
       "3            High school degree     No  Female    No       No      No   \n",
       "4  Did not complete high school     No    Male    No       No     Yes   \n",
       "\n",
       "         custcat churn  \n",
       "0  Basic service   Yes  \n",
       "1  Total service   Yes  \n",
       "2   Plus service    No  \n",
       "3  Basic service   Yes  \n",
       "4   Plus service    No  "
      ]
     },
     "execution_count": 2,
     "metadata": {},
     "output_type": "execute_result"
    }
   ],
   "source": [
    "\n",
    "# Displaying the first few rows of the dataframe\n",
    "data.head()\n"
   ]
  },
  {
   "cell_type": "code",
   "execution_count": 3,
   "id": "42e2ef38-8ab4-4cde-bda5-f72a67f16af6",
   "metadata": {},
   "outputs": [
    {
     "data": {
      "text/plain": [
       "Index(['ID', 'region', 'tenure', 'age', 'marital', 'address', 'income', 'ed',\n",
       "       'retire', 'gender', 'voice', 'internet', 'forward', 'custcat', 'churn'],\n",
       "      dtype='object')"
      ]
     },
     "execution_count": 3,
     "metadata": {},
     "output_type": "execute_result"
    }
   ],
   "source": [
    "#Checking column names to understand what data is available\n",
    "data.columns"
   ]
  },
  {
   "cell_type": "code",
   "execution_count": 4,
   "id": "d8836d39-67d8-499a-8602-7de2bc086cb1",
   "metadata": {},
   "outputs": [
    {
     "name": "stdout",
     "output_type": "stream",
     "text": [
      "ID          0\n",
      "region      0\n",
      "tenure      0\n",
      "age         0\n",
      "marital     0\n",
      "address     0\n",
      "income      0\n",
      "ed          0\n",
      "retire      0\n",
      "gender      0\n",
      "voice       0\n",
      "internet    0\n",
      "forward     0\n",
      "custcat     0\n",
      "churn       0\n",
      "dtype: int64\n"
     ]
    }
   ],
   "source": [
    "# Checking for missing values\n",
    "print(data.isnull().sum())\n"
   ]
  },
  {
   "cell_type": "code",
   "execution_count": 5,
   "id": "ab729625-2108-45d6-a1fa-c331e79dba51",
   "metadata": {},
   "outputs": [],
   "source": [
    "\n",
    "# Converting categorical variables to dummy variables\n",
    "data = pd.get_dummies(data, drop_first=True)"
   ]
  },
  {
   "cell_type": "code",
   "execution_count": 6,
   "id": "f03a46db-018e-48c9-88b4-ab9eb12e4ac2",
   "metadata": {},
   "outputs": [
    {
     "data": {
      "text/html": [
       "<div>\n",
       "<style scoped>\n",
       "    .dataframe tbody tr th:only-of-type {\n",
       "        vertical-align: middle;\n",
       "    }\n",
       "\n",
       "    .dataframe tbody tr th {\n",
       "        vertical-align: top;\n",
       "    }\n",
       "\n",
       "    .dataframe thead th {\n",
       "        text-align: right;\n",
       "    }\n",
       "</style>\n",
       "<table border=\"1\" class=\"dataframe\">\n",
       "  <thead>\n",
       "    <tr style=\"text-align: right;\">\n",
       "      <th></th>\n",
       "      <th>ID</th>\n",
       "      <th>tenure</th>\n",
       "      <th>age</th>\n",
       "      <th>address</th>\n",
       "      <th>income</th>\n",
       "      <th>region_Zone 2</th>\n",
       "      <th>region_Zone 3</th>\n",
       "      <th>marital_Unmarried</th>\n",
       "      <th>ed_Did not complete high school</th>\n",
       "      <th>ed_High school degree</th>\n",
       "      <th>...</th>\n",
       "      <th>ed_Some college</th>\n",
       "      <th>retire_Yes</th>\n",
       "      <th>gender_Male</th>\n",
       "      <th>voice_Yes</th>\n",
       "      <th>internet_Yes</th>\n",
       "      <th>forward_Yes</th>\n",
       "      <th>custcat_E-service</th>\n",
       "      <th>custcat_Plus service</th>\n",
       "      <th>custcat_Total service</th>\n",
       "      <th>churn_Yes</th>\n",
       "    </tr>\n",
       "  </thead>\n",
       "  <tbody>\n",
       "    <tr>\n",
       "      <th>0</th>\n",
       "      <td>1</td>\n",
       "      <td>13</td>\n",
       "      <td>44</td>\n",
       "      <td>9</td>\n",
       "      <td>64</td>\n",
       "      <td>True</td>\n",
       "      <td>False</td>\n",
       "      <td>False</td>\n",
       "      <td>False</td>\n",
       "      <td>False</td>\n",
       "      <td>...</td>\n",
       "      <td>False</td>\n",
       "      <td>False</td>\n",
       "      <td>True</td>\n",
       "      <td>False</td>\n",
       "      <td>False</td>\n",
       "      <td>True</td>\n",
       "      <td>False</td>\n",
       "      <td>False</td>\n",
       "      <td>False</td>\n",
       "      <td>True</td>\n",
       "    </tr>\n",
       "    <tr>\n",
       "      <th>1</th>\n",
       "      <td>2</td>\n",
       "      <td>11</td>\n",
       "      <td>33</td>\n",
       "      <td>7</td>\n",
       "      <td>136</td>\n",
       "      <td>False</td>\n",
       "      <td>True</td>\n",
       "      <td>False</td>\n",
       "      <td>False</td>\n",
       "      <td>False</td>\n",
       "      <td>...</td>\n",
       "      <td>False</td>\n",
       "      <td>False</td>\n",
       "      <td>True</td>\n",
       "      <td>True</td>\n",
       "      <td>False</td>\n",
       "      <td>True</td>\n",
       "      <td>False</td>\n",
       "      <td>False</td>\n",
       "      <td>True</td>\n",
       "      <td>True</td>\n",
       "    </tr>\n",
       "    <tr>\n",
       "      <th>2</th>\n",
       "      <td>3</td>\n",
       "      <td>68</td>\n",
       "      <td>52</td>\n",
       "      <td>24</td>\n",
       "      <td>116</td>\n",
       "      <td>False</td>\n",
       "      <td>True</td>\n",
       "      <td>False</td>\n",
       "      <td>True</td>\n",
       "      <td>False</td>\n",
       "      <td>...</td>\n",
       "      <td>False</td>\n",
       "      <td>False</td>\n",
       "      <td>False</td>\n",
       "      <td>False</td>\n",
       "      <td>False</td>\n",
       "      <td>False</td>\n",
       "      <td>False</td>\n",
       "      <td>True</td>\n",
       "      <td>False</td>\n",
       "      <td>False</td>\n",
       "    </tr>\n",
       "    <tr>\n",
       "      <th>3</th>\n",
       "      <td>4</td>\n",
       "      <td>33</td>\n",
       "      <td>33</td>\n",
       "      <td>12</td>\n",
       "      <td>33</td>\n",
       "      <td>True</td>\n",
       "      <td>False</td>\n",
       "      <td>True</td>\n",
       "      <td>False</td>\n",
       "      <td>True</td>\n",
       "      <td>...</td>\n",
       "      <td>False</td>\n",
       "      <td>False</td>\n",
       "      <td>False</td>\n",
       "      <td>False</td>\n",
       "      <td>False</td>\n",
       "      <td>False</td>\n",
       "      <td>False</td>\n",
       "      <td>False</td>\n",
       "      <td>False</td>\n",
       "      <td>True</td>\n",
       "    </tr>\n",
       "    <tr>\n",
       "      <th>4</th>\n",
       "      <td>5</td>\n",
       "      <td>23</td>\n",
       "      <td>30</td>\n",
       "      <td>9</td>\n",
       "      <td>30</td>\n",
       "      <td>True</td>\n",
       "      <td>False</td>\n",
       "      <td>False</td>\n",
       "      <td>True</td>\n",
       "      <td>False</td>\n",
       "      <td>...</td>\n",
       "      <td>False</td>\n",
       "      <td>False</td>\n",
       "      <td>True</td>\n",
       "      <td>False</td>\n",
       "      <td>False</td>\n",
       "      <td>True</td>\n",
       "      <td>False</td>\n",
       "      <td>True</td>\n",
       "      <td>False</td>\n",
       "      <td>False</td>\n",
       "    </tr>\n",
       "  </tbody>\n",
       "</table>\n",
       "<p>5 rows × 21 columns</p>\n",
       "</div>"
      ],
      "text/plain": [
       "   ID  tenure  age  address  income  region_Zone 2  region_Zone 3  \\\n",
       "0   1      13   44        9      64           True          False   \n",
       "1   2      11   33        7     136          False           True   \n",
       "2   3      68   52       24     116          False           True   \n",
       "3   4      33   33       12      33           True          False   \n",
       "4   5      23   30        9      30           True          False   \n",
       "\n",
       "   marital_Unmarried  ed_Did not complete high school  ed_High school degree  \\\n",
       "0              False                            False                  False   \n",
       "1              False                            False                  False   \n",
       "2              False                             True                  False   \n",
       "3               True                            False                   True   \n",
       "4              False                             True                  False   \n",
       "\n",
       "   ...  ed_Some college  retire_Yes  gender_Male  voice_Yes  internet_Yes  \\\n",
       "0  ...            False       False         True      False         False   \n",
       "1  ...            False       False         True       True         False   \n",
       "2  ...            False       False        False      False         False   \n",
       "3  ...            False       False        False      False         False   \n",
       "4  ...            False       False         True      False         False   \n",
       "\n",
       "   forward_Yes  custcat_E-service  custcat_Plus service  \\\n",
       "0         True              False                 False   \n",
       "1         True              False                 False   \n",
       "2        False              False                  True   \n",
       "3        False              False                 False   \n",
       "4         True              False                  True   \n",
       "\n",
       "   custcat_Total service  churn_Yes  \n",
       "0                  False       True  \n",
       "1                   True       True  \n",
       "2                  False      False  \n",
       "3                  False       True  \n",
       "4                  False      False  \n",
       "\n",
       "[5 rows x 21 columns]"
      ]
     },
     "execution_count": 6,
     "metadata": {},
     "output_type": "execute_result"
    }
   ],
   "source": [
    "data.head()"
   ]
  },
  {
   "cell_type": "code",
   "execution_count": 7,
   "id": "94ea7410-e33e-4e5c-b995-10f0af70bdf2",
   "metadata": {},
   "outputs": [
    {
     "data": {
      "text/plain": [
       "Index(['ID', 'tenure', 'age', 'address', 'income', 'region_Zone 2',\n",
       "       'region_Zone 3', 'marital_Unmarried', 'ed_Did not complete high school',\n",
       "       'ed_High school degree', 'ed_Post-undergraduate degree',\n",
       "       'ed_Some college', 'retire_Yes', 'gender_Male', 'voice_Yes',\n",
       "       'internet_Yes', 'forward_Yes', 'custcat_E-service',\n",
       "       'custcat_Plus service', 'custcat_Total service', 'churn_Yes'],\n",
       "      dtype='object')"
      ]
     },
     "execution_count": 7,
     "metadata": {},
     "output_type": "execute_result"
    }
   ],
   "source": [
    "data.columns"
   ]
  },
  {
   "cell_type": "code",
   "execution_count": 8,
   "id": "6a3c248b-c6fb-4e9c-a638-bfd198249251",
   "metadata": {},
   "outputs": [
    {
     "name": "stdout",
     "output_type": "stream",
     "text": [
      "ID                                 int64\n",
      "tenure                             int64\n",
      "age                                int64\n",
      "address                            int64\n",
      "income                             int64\n",
      "region_Zone 2                       bool\n",
      "region_Zone 3                       bool\n",
      "marital_Unmarried                   bool\n",
      "ed_Did not complete high school     bool\n",
      "ed_High school degree               bool\n",
      "ed_Post-undergraduate degree        bool\n",
      "ed_Some college                     bool\n",
      "retire_Yes                          bool\n",
      "gender_Male                         bool\n",
      "voice_Yes                           bool\n",
      "internet_Yes                        bool\n",
      "forward_Yes                         bool\n",
      "custcat_E-service                   bool\n",
      "custcat_Plus service                bool\n",
      "custcat_Total service               bool\n",
      "churn_Yes                           bool\n",
      "dtype: object\n"
     ]
    }
   ],
   "source": [
    "\n",
    "# Checking data types\n",
    "print(data.dtypes)"
   ]
  },
  {
   "cell_type": "code",
   "execution_count": 9,
   "id": "3e45e9ba-7d92-472e-bdc6-ac61bdc19c08",
   "metadata": {},
   "outputs": [],
   "source": [
    "# Initializing the AFT models\n",
    "weibull_aft = WeibullAFTFitter()\n",
    "log_normal_aft = LogNormalAFTFitter()\n",
    "log_logistic_aft = LogLogisticAFTFitter()\n"
   ]
  },
  {
   "cell_type": "code",
   "execution_count": 10,
   "id": "459587a6-526c-4cb7-bbc5-85911233221e",
   "metadata": {},
   "outputs": [],
   "source": [
    "# Defining column and event occurred column \n",
    "duration_col = 'tenure'  # Lifetime of the customer\n",
    "event_col = 'churn_Yes'  # True if customer churned, False otherwise\n"
   ]
  },
  {
   "cell_type": "code",
   "execution_count": 11,
   "id": "4ccffb53-51e1-416a-8993-6dbeaec118f8",
   "metadata": {},
   "outputs": [
    {
     "data": {
      "text/plain": [
       "<lifelines.LogLogisticAFTFitter: fitted with 1000 total observations, 726 right-censored observations>"
      ]
     },
     "execution_count": 11,
     "metadata": {},
     "output_type": "execute_result"
    }
   ],
   "source": [
    "# Fitting the models\n",
    "weibull_aft.fit(data, duration_col=duration_col, event_col=event_col)\n",
    "log_normal_aft.fit(data, duration_col=duration_col, event_col=event_col)\n",
    "log_logistic_aft.fit(data, duration_col=duration_col, event_col=event_col)"
   ]
  },
  {
   "cell_type": "code",
   "execution_count": 12,
   "id": "8d56b851-b254-49f1-a868-9391cba6a644",
   "metadata": {},
   "outputs": [
    {
     "name": "stdout",
     "output_type": "stream",
     "text": [
      "Weibull AFT AIC: 2958.3571269466456\n",
      "Log-Normal AFT AIC: 2950.3002131922785\n",
      "Log-Logistic AFT AIC: 2952.2582596356683\n"
     ]
    }
   ],
   "source": [
    "# Printing AIC values for each model to compare\n",
    "print(\"Weibull AFT AIC:\", weibull_aft.AIC_)\n",
    "print(\"Log-Normal AFT AIC:\", log_normal_aft.AIC_)\n",
    "print(\"Log-Logistic AFT AIC:\", log_logistic_aft.AIC_)\n"
   ]
  },
  {
   "cell_type": "raw",
   "id": "a2ab38b5-50f9-4bbc-8a5d-1b8165d9e5f3",
   "metadata": {},
   "source": [
    "Other factors apart from the above comparisons\n",
    "\n",
    "When selecting a model, it's important to examine not only statistical measures like AIC, but also interpretability. Can stakeholders simply understand the results? Practical relevance:- Does the model take into account elements that are practical and useful in the business context? Predictor significance-  Are statistically significant factors relevant to business decisions?\n",
    "Model stability- How responsive is the model to changes in data inputs or variability?\n",
    "Given that the Log-Normal AFT model has the lowest AIC and performs well on the aforementioned variables, it appears to be an appropriate choice."
   ]
  },
  {
   "cell_type": "code",
   "execution_count": 13,
   "id": "aa645cb8-b929-4c06-b09e-a954ac3f637b",
   "metadata": {},
   "outputs": [
    {
     "data": {
      "image/png": "[encoded data removed]",
      "text/plain": [
       "<Figure size 1000x600 with 1 Axes>"
      ]
     },
     "metadata": {},
     "output_type": "display_data"
    }
   ],
   "source": [
    "fig, ax = plt.subplots(figsize=(10, 6))\n",
    "\n",
    "# Plot the survival function for each AFT model\n",
    "weibull_aft.plot(ax=ax, label='Weibull AFT Survival Function')\n",
    "log_normal_aft.plot(ax=ax, label='Log-Normal AFT Survival Function')\n",
    "log_logistic_aft.plot(ax=ax, label='Log-Logistic AFT Survival Function')\n",
    "\n",
    "plt.title('Survival Curves Comparison')\n",
    "plt.xlabel('Timeline')\n",
    "plt.ylabel('Survival Function')\n",
    "plt.legend()\n",
    "plt.show()\n"
   ]
  },
  {
   "cell_type": "code",
   "execution_count": 14,
   "id": "768801b4-34d3-45af-a6e1-21d60e0ae249",
   "metadata": {},
   "outputs": [],
   "source": [
    "#Finalizing the Model"
   ]
  },
  {
   "cell_type": "code",
   "execution_count": 15,
   "id": "541e39b7-4229-482c-83cd-44cc04931bc7",
   "metadata": {},
   "outputs": [],
   "source": [
    "final_model = log_normal_aft"
   ]
  },
  {
   "cell_type": "code",
   "execution_count": 16,
   "id": "a64a0bcc-ff0f-4bb2-827b-bc8ee4d04d36",
   "metadata": {},
   "outputs": [
    {
     "name": "stdout",
     "output_type": "stream",
     "text": [
      "                                            coef  exp(coef)  se(coef)  \\\n",
      "param  covariate                                                        \n",
      "mu_    ID                              -0.000474   0.999526  0.000198   \n",
      "       address                          0.042630   1.043551  0.008880   \n",
      "       age                              0.033230   1.033788  0.007241   \n",
      "       custcat_E-service                1.064673   2.899891  0.169648   \n",
      "       custcat_Plus service             0.937889   2.554584  0.215175   \n",
      "       custcat_Total service            1.210374   3.354739  0.249688   \n",
      "       ed_Did not complete high school  0.376412   1.457047  0.200659   \n",
      "       ed_High school degree            0.306672   1.358895  0.162321   \n",
      "       ed_Post-undergraduate degree    -0.053980   0.947451  0.222322   \n",
      "       ed_Some college                  0.285017   1.329785  0.164680   \n",
      "       forward_Yes                     -0.203822   0.815608  0.179371   \n",
      "       gender_Male                      0.035347   1.035979  0.113904   \n",
      "       income                           0.001366   1.001367  0.000908   \n",
      "       internet_Yes                    -0.789688   0.453986  0.143040   \n",
      "       marital_Unmarried               -0.444167   0.641358  0.114912   \n",
      "       region_Zone 2                   -0.094676   0.909667  0.142116   \n",
      "       region_Zone 3                    0.059428   1.061229  0.140939   \n",
      "       retire_Yes                       0.023372   1.023647  0.443554   \n",
      "       voice_Yes                       -0.409576   0.663932  0.168434   \n",
      "       Intercept                        2.571832  13.089779  0.304635   \n",
      "sigma_ Intercept                        0.269709   1.309584  0.045977   \n",
      "\n",
      "                                        coef lower 95%  coef upper 95%  \\\n",
      "param  covariate                                                         \n",
      "mu_    ID                                    -0.000862       -0.000085   \n",
      "       address                                0.025224        0.060035   \n",
      "       age                                    0.019037        0.047422   \n",
      "       custcat_E-service                      0.732168        1.397178   \n",
      "       custcat_Plus service                   0.516153        1.359625   \n",
      "       custcat_Total service                  0.720994        1.699754   \n",
      "       ed_Did not complete high school       -0.016872        0.769696   \n",
      "       ed_High school degree                 -0.011470        0.624815   \n",
      "       ed_Post-undergraduate degree          -0.489722        0.381762   \n",
      "       ed_Some college                       -0.037751        0.607785   \n",
      "       forward_Yes                           -0.555382        0.147738   \n",
      "       gender_Male                           -0.187902        0.258595   \n",
      "       income                                -0.000414        0.003145   \n",
      "       internet_Yes                          -1.070041       -0.509336   \n",
      "       marital_Unmarried                     -0.669391       -0.218943   \n",
      "       region_Zone 2                         -0.373219        0.183866   \n",
      "       region_Zone 3                         -0.216807        0.335663   \n",
      "       retire_Yes                            -0.845978        0.892721   \n",
      "       voice_Yes                             -0.739701       -0.079451   \n",
      "       Intercept                              1.974757        3.168906   \n",
      "sigma_ Intercept                              0.179596        0.359823   \n",
      "\n",
      "                                        exp(coef) lower 95%  \\\n",
      "param  covariate                                              \n",
      "mu_    ID                                          0.999138   \n",
      "       address                                     1.025545   \n",
      "       age                                         1.019220   \n",
      "       custcat_E-service                           2.079585   \n",
      "       custcat_Plus service                        1.675570   \n",
      "       custcat_Total service                       2.056477   \n",
      "       ed_Did not complete high school             0.983270   \n",
      "       ed_High school degree                       0.988595   \n",
      "       ed_Post-undergraduate degree                0.612797   \n",
      "       ed_Some college                             0.962953   \n",
      "       forward_Yes                                 0.573853   \n",
      "       gender_Male                                 0.828696   \n",
      "       income                                      0.999586   \n",
      "       internet_Yes                                0.342994   \n",
      "       marital_Unmarried                           0.512020   \n",
      "       region_Zone 2                               0.688514   \n",
      "       region_Zone 3                               0.805085   \n",
      "       retire_Yes                                  0.429137   \n",
      "       voice_Yes                                   0.477257   \n",
      "       Intercept                                   7.204871   \n",
      "sigma_ Intercept                                   1.196734   \n",
      "\n",
      "                                        exp(coef) upper 95%  cmp to         z  \\\n",
      "param  covariate                                                                \n",
      "mu_    ID                                          0.999915     0.0 -2.389228   \n",
      "       address                                     1.061874     0.0  4.800410   \n",
      "       age                                         1.048564     0.0  4.589044   \n",
      "       custcat_E-service                           4.043771     0.0  6.275763   \n",
      "       custcat_Plus service                        3.894734     0.0  4.358721   \n",
      "       custcat_Total service                       5.472600     0.0  4.847542   \n",
      "       ed_Did not complete high school             2.159109     0.0  1.875881   \n",
      "       ed_High school degree                       1.867900     0.0  1.889300   \n",
      "       ed_Post-undergraduate degree                1.464864     0.0 -0.242800   \n",
      "       ed_Some college                             1.836359     0.0  1.730729   \n",
      "       forward_Yes                                 1.159209     0.0 -1.136318   \n",
      "       gender_Male                                 1.295109     0.0  0.310318   \n",
      "       income                                      1.003150     0.0  1.503829   \n",
      "       internet_Yes                                0.600894     0.0 -5.520768   \n",
      "       marital_Unmarried                           0.803367     0.0 -3.865271   \n",
      "       region_Zone 2                               1.201855     0.0 -0.666190   \n",
      "       region_Zone 3                               1.398868     0.0  0.421658   \n",
      "       retire_Yes                                  2.441765     0.0  0.052692   \n",
      "       voice_Yes                                   0.923623     0.0 -2.431669   \n",
      "       Intercept                                  23.781456     0.0  8.442327   \n",
      "sigma_ Intercept                                   1.433075     0.0  5.866189   \n",
      "\n",
      "                                                   p   -log2(p)  \n",
      "param  covariate                                                 \n",
      "mu_    ID                               1.688383e-02   5.888214  \n",
      "       address                          1.583413e-06  19.268531  \n",
      "       age                              4.452797e-06  17.776857  \n",
      "       custcat_E-service                3.479244e-10  31.420507  \n",
      "       custcat_Plus service             1.308250e-05  16.222003  \n",
      "       custcat_Total service            1.250006e-06  19.609633  \n",
      "       ed_Did not complete high school  6.067163e-02   4.042834  \n",
      "       ed_High school degree            5.885170e-02   4.086772  \n",
      "       ed_Post-undergraduate degree     8.081602e-01   0.307287  \n",
      "       ed_Some college                  8.350013e-02   3.582078  \n",
      "       forward_Yes                      2.558236e-01   1.966779  \n",
      "       gender_Male                      7.563192e-01   0.402933  \n",
      "       income                           1.326255e-01   2.914570  \n",
      "       internet_Yes                     3.375217e-08  24.820444  \n",
      "       marital_Unmarried                1.109659e-04  13.137596  \n",
      "       region_Zone 2                    5.052894e-01   0.984818  \n",
      "       region_Zone 3                    6.732747e-01   0.570733  \n",
      "       retire_Yes                       9.579775e-01   0.061936  \n",
      "       voice_Yes                        1.502942e-02   6.056067  \n",
      "       Intercept                        3.110806e-17  54.835489  \n",
      "sigma_ Intercept                        4.459260e-09  27.740548  \n"
     ]
    }
   ],
   "source": [
    "# Print the summary attribute of the Log-Normal AFT model\n",
    "print(final_model.summary)"
   ]
  },
  {
   "cell_type": "raw",
   "id": "364a7a71-76e2-4894-a64e-358b00c74f5e",
   "metadata": {},
   "source": [
    "Keeping the  significant features and summary the final model"
   ]
  },
  {
   "cell_type": "code",
   "execution_count": 17,
   "id": "95e4bc38-f97a-455a-b022-a8b3706655f8",
   "metadata": {},
   "outputs": [
    {
     "name": "stdout",
     "output_type": "stream",
     "text": [
      "                                  coef  exp(coef)  se(coef)  coef lower 95%  \\\n",
      "param  covariate                                                              \n",
      "mu_    address                0.042824   1.043754  0.008847        0.025483   \n",
      "       age                    0.036826   1.037512  0.006400        0.024283   \n",
      "       custcat_E-service      1.025825   2.789395  0.169047        0.694499   \n",
      "       custcat_Plus service   0.822553   2.276303  0.169425        0.490485   \n",
      "       custcat_Total service  1.013269   2.754590  0.209579        0.602501   \n",
      "       internet_Yes          -0.840528   0.431483  0.138259       -1.111511   \n",
      "       marital_Unmarried     -0.447317   0.639341  0.114472       -0.671679   \n",
      "       voice_Yes             -0.463493   0.629082  0.166771       -0.790359   \n",
      "       Intercept              2.534887  12.615010  0.242611        2.059379   \n",
      "sigma_ Intercept              0.283034   1.327150  0.046020        0.192836   \n",
      "\n",
      "                              coef upper 95%  exp(coef) lower 95%  \\\n",
      "param  covariate                                                    \n",
      "mu_    address                      0.060164             1.025811   \n",
      "       age                          0.049369             1.024580   \n",
      "       custcat_E-service            1.357150             2.002706   \n",
      "       custcat_Plus service         1.154620             1.633109   \n",
      "       custcat_Total service        1.424036             1.826682   \n",
      "       internet_Yes                -0.569545             0.329061   \n",
      "       marital_Unmarried           -0.222956             0.510850   \n",
      "       voice_Yes                   -0.136628             0.453682   \n",
      "       Intercept                    3.010396             7.841100   \n",
      "sigma_ Intercept                    0.373231             1.212684   \n",
      "\n",
      "                              exp(coef) upper 95%  cmp to          z  \\\n",
      "param  covariate                                                       \n",
      "mu_    address                           1.062011     0.0   4.840293   \n",
      "       age                               1.050608     0.0   5.754395   \n",
      "       custcat_E-service                 3.885105     0.0   6.068295   \n",
      "       custcat_Plus service              3.172818     0.0   4.854960   \n",
      "       custcat_Total service             4.153852     0.0   4.834781   \n",
      "       internet_Yes                      0.565783     0.0  -6.079365   \n",
      "       marital_Unmarried                 0.800150     0.0  -3.907654   \n",
      "       voice_Yes                         0.872294     0.0  -2.779221   \n",
      "       Intercept                        20.295430     0.0  10.448373   \n",
      "sigma_ Intercept                         1.452420     0.0   6.150258   \n",
      "\n",
      "                                         p   -log2(p)  \n",
      "param  covariate                                       \n",
      "mu_    address                1.296478e-06  19.556971  \n",
      "       age                    8.695261e-09  26.777123  \n",
      "       custcat_E-service      1.292752e-09  29.526907  \n",
      "       custcat_Plus service   1.204113e-06  19.663598  \n",
      "       custcat_Total service  1.332924e-06  19.516974  \n",
      "       internet_Yes           1.206593e-09  29.626414  \n",
      "       marital_Unmarried      9.319665e-05  13.389362  \n",
      "       voice_Yes              5.448947e-03   7.519807  \n",
      "       Intercept              1.490611e-25  82.472298  \n",
      "sigma_ Intercept              7.735690e-10  30.267751  \n"
     ]
    }
   ],
   "source": [
    "from lifelines import LogNormalAFTFitter\n",
    "\n",
    "# Define significant features based on the updated columns\n",
    "significant_features = [\n",
    "    'tenure', 'address', 'age', \n",
    "    'custcat_E-service', 'custcat_Plus service', 'custcat_Total service',\n",
    "    'voice_Yes', 'internet_Yes', 'marital_Unmarried'  # Include 'marital_Unmarried' if significant\n",
    "]\n",
    "\n",
    "# Ensure the event column is included\n",
    "features_to_use = significant_features + ['churn_Yes']\n",
    "\n",
    "# Fit the model\n",
    "final_model = LogNormalAFTFitter()\n",
    "final_model.fit(data[features_to_use], duration_col='tenure', event_col='churn_Yes')\n",
    "\n",
    "# Print the model summary to review coefficients and significance\n",
    "print(final_model.summary)\n"
   ]
  },
  {
   "cell_type": "raw",
   "id": "d1a10659-4907-4071-b698-de7b96be290e",
   "metadata": {},
   "source": [
    "Characteristics Retained in the Final Model\n",
    "\n",
    "Tenure: How long a consumer has been with the service. It is an important variable in any survival study since it directly affects the survival function.\n",
    "address: The number of years a client has resided at their current address, indicating stability or a certain lifestyle that may be related to service continuance or churn.\n",
    "Age: Older or younger consumers may have distinct requirements and loyalty behaviours, which might influence their chance of turnover.\n",
    "custcat_E-service, custcat_Plus service, and custcat_Total service: These are client groups depending on the type of service they subscribe to, which is likely to influence their engagement level and churn rate.\n",
    "Voice_Yes, internet_Yes: Service use variables reflect the customer's involvement with additional service alternatives, which can have a big influence on their future business.\n",
    "marital_Unmarried: Marital status might affect customer churn since unmarried consumers may have different service demands or stability than married customers.\n",
    "\n",
    "It demonstrates an increased awareness of the elements that lead to client attrition. Focusing on key qualities allows you to better estimate churn and customise retention initiatives. Customers in the \"E-service\" category, for example, who utilise internet services may be more likely to churn and may be targeted with special offers or upgraded service features to increase retention.\n"
   ]
  },
  {
   "cell_type": "raw",
   "id": "b4cb343f-62a4-4e4c-ac5e-c44d1602b89a",
   "metadata": {},
   "source": [
    "Calculating Customer Lifetime Value (CLV)"
   ]
  },
  {
   "cell_type": "code",
   "execution_count": 18,
   "id": "170f5f23-dd09-4a17-9072-5640f272cd88",
   "metadata": {},
   "outputs": [
    {
     "name": "stdout",
     "output_type": "stream",
     "text": [
      "   ID  tenure          CLV\n",
      "0   1      13   369.478520\n",
      "1   2      11   315.246396\n",
      "2   3      68  1537.572875\n",
      "3   4      33   863.065519\n",
      "4   5      23   627.069490\n"
     ]
    }
   ],
   "source": [
    "import numpy as np\n",
    "\n",
    "# Defining the average monthly revenue (MM) and the annual discount rate (r)\n",
    "MM = 30  # hypothetical average monthly margin in \n",
    "r = 0.05  # annual discount rate, e.g., 5%\n",
    "\n",
    "# Calculating the discount factor for each month of tenure\n",
    "data['Discount_Factor'] = (1 + r / 12) ** (-data['tenure'])\n",
    "\n",
    "# Calculate CLV by multiplying the tenure by monthly margin, then discounting it\n",
    "data['CLV'] = data['tenure'] * MM * data['Discount_Factor']\n",
    "\n",
    "# Optionally, you can drop the intermediate 'Discount_Factor' column if no longer needed\n",
    "data.drop(columns=['Discount_Factor'], inplace=True)\n",
    "\n",
    "# Output the data to see the CLV and other columns\n",
    "print(data[['ID', 'tenure', 'CLV']].head())\n"
   ]
  },
  {
   "cell_type": "raw",
   "id": "3e00ebf4-fc6f-42f2-98b1-0742c83599cf",
   "metadata": {},
   "source": [
    "Analyzing CLV by Customer Category"
   ]
  },
  {
   "cell_type": "code",
   "execution_count": 19,
   "id": "c8be7091-300b-458f-b071-110f2a8f3afe",
   "metadata": {},
   "outputs": [
    {
     "name": "stdout",
     "output_type": "stream",
     "text": [
      "Average CLV by E-service Category:\n",
      "custcat_E-service\n",
      "False     825.70323\n",
      "True     1048.81607\n",
      "Name: CLV, dtype: float64\n",
      "\n",
      "Average CLV by Plus Service Category:\n",
      "custcat_Plus service\n",
      "False    835.299870\n",
      "True     973.445232\n",
      "Name: CLV, dtype: float64\n",
      "\n",
      "Average CLV by Total Service Category:\n",
      "custcat_Total service\n",
      "False    876.527478\n",
      "True     866.320860\n",
      "Name: CLV, dtype: float64\n"
     ]
    }
   ],
   "source": [
    "\n",
    "# Calculating average CLV for each customer category based on dummy variable columns\n",
    "average_clv_by_eservice = data.groupby('custcat_E-service')['CLV'].mean()\n",
    "average_clv_by_plus_service = data.groupby('custcat_Plus service')['CLV'].mean()\n",
    "average_clv_by_total_service = data.groupby('custcat_Total service')['CLV'].mean()\n",
    "\n",
    "print(\"Average CLV by E-service Category:\")\n",
    "print(average_clv_by_eservice)\n",
    "\n",
    "print(\"\\nAverage CLV by Plus Service Category:\")\n",
    "print(average_clv_by_plus_service)\n",
    "\n",
    "print(\"\\nAverage CLV by Total Service Category:\")\n",
    "print(average_clv_by_total_service)\n"
   ]
  },
  {
   "cell_type": "code",
   "execution_count": 20,
   "id": "d8f60460-7dba-44cc-b9a3-6b4860cd2447",
   "metadata": {},
   "outputs": [
    {
     "name": "stdout",
     "output_type": "stream",
     "text": [
      "Average CLV by Customer Category:\n",
      "custcat\n",
      "E-service        1048.816070\n",
      "Other             633.593218\n",
      "Plus service      973.445232\n",
      "Total service     866.320860\n",
      "Name: CLV, dtype: float64\n"
     ]
    }
   ],
   "source": [
    "# Recreating a consolidated 'custcat' column from dummy variables for consolidated analysis\n",
    "conditions = [\n",
    "    data['custcat_E-service'] == 1,\n",
    "    data['custcat_Plus service'] == 1,\n",
    "    data['custcat_Total service'] == 1\n",
    "]\n",
    "choices = ['E-service', 'Plus service', 'Total service']\n",
    "data['custcat'] = np.select(conditions, choices, default='Other')\n",
    "\n",
    "# Now calculate average CLV by the reconstructed 'custcat' column\n",
    "average_clv_by_custcat = data.groupby('custcat')['CLV'].mean()\n",
    "print(\"Average CLV by Customer Category:\")\n",
    "print(average_clv_by_custcat)\n"
   ]
  },
  {
   "cell_type": "raw",
   "id": "0122481a-095f-4d17-8560-aa235d401f35",
   "metadata": {},
   "source": [
    "Analyzing CLV by Service Usage"
   ]
  },
  {
   "cell_type": "code",
   "execution_count": 21,
   "id": "1be33e8b-a5d6-4fd4-9dcc-eb948d9460be",
   "metadata": {},
   "outputs": [
    {
     "name": "stdout",
     "output_type": "stream",
     "text": [
      "Average CLV by Service Usage: voice_Yes  internet_Yes  forward_Yes\n",
      "False      False         False          883.086092\n",
      "                         True           972.829204\n",
      "           True          False          758.863864\n",
      "                         True           739.903746\n",
      "True       False         False          704.610519\n",
      "                         True           987.976828\n",
      "           True          False          792.950864\n",
      "                         True           831.430660\n",
      "Name: CLV, dtype: float64\n"
     ]
    }
   ],
   "source": [
    "\n",
    "# Exploring CLV by service usage\n",
    "average_clv_by_service = data.groupby(['voice_Yes', 'internet_Yes', 'forward_Yes'])['CLV'].mean()\n",
    "print(\"Average CLV by Service Usage:\", average_clv_by_service)\n"
   ]
  },
  {
   "cell_type": "code",
   "execution_count": 22,
   "id": "82217aa7-40ea-49fb-9e23-cf30fdcd2884",
   "metadata": {},
   "outputs": [
    {
     "name": "stdout",
     "output_type": "stream",
     "text": [
      "Average CLV by Marital Status: marital_Unmarried\n",
      "False    949.423292\n",
      "True     800.305321\n",
      "Name: CLV, dtype: float64\n"
     ]
    }
   ],
   "source": [
    "# Calculating average CLV by marital status\n",
    "# For example, grouping by marital status\n",
    "average_clv_by_marital = data.groupby('marital_Unmarried')['CLV'].mean()\n",
    "print(\"Average CLV by Marital Status:\", average_clv_by_marital)"
   ]
  },
  {
   "cell_type": "code",
   "execution_count": 23,
   "id": "2dd8fb1d-cc69-457d-bd9b-af9bebc0633f",
   "metadata": {},
   "outputs": [
    {
     "name": "stdout",
     "output_type": "stream",
     "text": [
      "Average CLV by Retirement Status:\n",
      "retire_Yes\n",
      "False     857.462430\n",
      "True     1211.851501\n",
      "Name: CLV, dtype: float64\n"
     ]
    }
   ],
   "source": [
    "# Calculating average CLV by retirement status\n",
    "average_clv_by_retire = data.groupby('retire_Yes')['CLV'].mean()\n",
    "print(\"Average CLV by Retirement Status:\")\n",
    "print(average_clv_by_retire)\n"
   ]
  },
  {
   "cell_type": "code",
   "execution_count": 24,
   "id": "d147908a-34d3-48ab-9f7b-22c0405a4d6f",
   "metadata": {},
   "outputs": [
    {
     "name": "stdout",
     "output_type": "stream",
     "text": [
      "Average CLV by Gender:\n",
      "gender_Male\n",
      "False    883.466639\n",
      "True     864.112761\n",
      "Name: CLV, dtype: float64\n"
     ]
    }
   ],
   "source": [
    "# Calculating average CLV by gender\n",
    "average_clv_by_gender = data.groupby('gender_Male')['CLV'].mean()\n",
    "print(\"Average CLV by Gender:\")\n",
    "print(average_clv_by_gender)\n"
   ]
  },
  {
   "cell_type": "raw",
   "id": "6885079e-aa1d-44a6-8cb7-c72fe557bb2c",
   "metadata": {},
   "source": [
    "REPORT"
   ]
  },
  {
   "cell_type": "raw",
   "id": "ae15b1ba-e768-492c-b706-f4546d1ecb0a",
   "metadata": {},
   "source": [
    "\n",
    "Based on the provided model description and the assumption that the data reflect the general population, our survival study using a Log-Normal AFT model offered considerable insights into factors influencing customer churn risk. The coefficients computed provide an approximation of each feature's influence on the time until a client churns. For example, characteristics with a positive coefficient, such as custcat_E-service, custcat_Plus service, and custcat_Total service, are related with a higher predicted tenure, meaning that consumers in these categories are more likely to continue with the service before leaving. On the other side, internet_Yes has a negative coefficient, implying that consumers who use internet services are more likely to churn, maybe owing to market competition or service quality issues.\n",
    "\n",
    "The most valuable degments in terms of retention tend to be those classified as 'E-service', 'Plus service', and 'Total service'. These clients have a longer predicted duration and may generate more money, making them ideal candidates for retention initiatives.  To establish a yearly retention budget, we would include in the projected revenue loss from lost customers, which may be approximated by multiplying the forecasted churn probability by the CLV for each segment. For example, if we forecast a 10% turnover rate for the 'Total service' sector, with an average CLV of $1,000, and there are 1,000 customers in this segment, the potential revenue loss is $100,000 per year.\n",
    "\n",
    "In accordance with results, the yearly retention budget should at minimum reflect the anticipated income loss while also accounting for the expenses of executing retention tactics. Given the high value and risk of churn among internet service customers, strategies should focus on improving service quality, delivering competitive pricing, and developing customer engagement programmes customised to their requirements. Furthermore, personalised retention incentives and loyalty awards for the 'Plus service' and 'Total service' groups may be useful in lowering turnover. These focused methods, along with a company-wide focus on customer satisfaction and continual service improvement, will be critical in keeping valuable clients and reducing churn risk."
   ]
  }
 ],
 "metadata": {
  "kernelspec": {
   "display_name": "Python 3 (ipykernel)",
   "language": "python",
   "name": "python3"
  },
  "language_info": {
   "codemirror_mode": {
    "name": "ipython",
    "version": 3
   },
   "file_extension": ".py",
   "mimetype": "text/x-python",
   "name": "python",
   "nbconvert_exporter": "python",
   "pygments_lexer": "ipython3",
   "version": "3.11.1"
  }
 },
 "nbformat": 4,
 "nbformat_minor": 5
}
